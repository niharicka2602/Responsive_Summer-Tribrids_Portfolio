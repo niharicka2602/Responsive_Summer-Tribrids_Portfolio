{
 "cells": [
  {
   "cell_type": "code",
   "execution_count": 9,
   "metadata": {},
   "outputs": [],
   "source": [
    "import numpy"
   ]
  },
  {
   "cell_type": "code",
   "execution_count": 10,
   "metadata": {},
   "outputs": [],
   "source": [
    "photo = numpy.zeros((400,400,3))"
   ]
  },
  {
   "cell_type": "code",
   "execution_count": 11,
   "metadata": {},
   "outputs": [],
   "source": [
    "#first_box\n",
    "photo[60:100,100:150]=[255,0,0]\n",
    "#second box\n",
    "photo[70:80,200:250]=[0,0,255]\n",
    "photo[90:100,200:250]=[0,0,255]\n",
    "#third box \n",
    "photo[60:100,300:350]=[0,255,0]\n",
    "\n",
    "#second-first_box\n",
    "photo[160:200,110:120]=[0,0,255]\n",
    "photo[160:200,130:140]=[0,0,255]\n",
    "#second-second box\n",
    "photo[160:200,200:250]=[0,255,0]\n",
    "#second-third box \n",
    "photo[160:200,310:320]=[0,0,255]\n",
    "photo[160:200,330:340]=[0,0,255]\n",
    "\n",
    "#third-first_box\n",
    "photo[260:300,100:150]=[0,255,0]\n",
    "#third-second box\n",
    "photo[270:280,200:250]=[0,0,255]\n",
    "photo[290:300,200:250]=[0,0,255]\n",
    "#third-third box \n",
    "photo[260:300,300:350]=[255,0,0]"
   ]
  },
  {
   "cell_type": "code",
   "execution_count": 14,
   "metadata": {},
   "outputs": [],
   "source": [
    "import cv2"
   ]
  },
  {
   "cell_type": "code",
   "execution_count": 15,
   "metadata": {},
   "outputs": [],
   "source": [
    "cv2.imshow('hi' , photo)\n",
    "cv2.waitKey()\n",
    "cv2.destroyAllWindows()"
   ]
  },
  {
   "cell_type": "code",
   "execution_count": 16,
   "metadata": {},
   "outputs": [],
   "source": [
    "import cv2\n",
    "import numpy\n",
    "create = numpy.zeros((600, 700, 3))"
   ]
  },
  {
   "cell_type": "code",
   "execution_count": 17,
   "metadata": {},
   "outputs": [],
   "source": [
    "create[560:600,1:50] = [255,255,255]            # white line\n",
    "create[560:600, 51:230] = [255,255,255]\n",
    "\n",
    "create[50:550, 231:690] = [255,255,255]\n",
    "create[51:150, 231:690] = [0,0,255]            # red line\n",
    "\n",
    "create[161:540, 240:680] = [0,0,0]             # Inner Black\n",
    "\n",
    "create[55:75, 650:680] = [255,0,0]             # 5 Inner Blue in red\n",
    "create[55:75, 610:640] = [0,255,0]             # 4 Inner green in red\n",
    "create[55:75, 570:600] = [0,0,0]               # 3 Inner black in red\n",
    "create[55:75, 530:560] = [255,255,0]           # 2 Inner sky Blue in red\n",
    "create[55:75, 490:520] = [255,0,255]           # 1 Inner purple in red\n",
    "\n",
    "create[85:105, 650:680] = [255,0,255]          #5 Inner puurple in red\n",
    "create[85:105, 610:640] = [255,255,255]        #4 Inner white  in red\n",
    "create[85:105, 570:600] = [0,255,255]          #3 Inner yellow in red\n",
    "create[85:105, 530:560] = [0,255,0]            #2 Inner green in red\n",
    "create[85:105, 490:520] = [255,0,0]            #1 Inner blue in red\n",
    "\n",
    "create[55:105, 420:480] = [0,0,0]            #1 Inner black in red \n",
    "create[55:105, 350:410] = [0,0,0]            #1 Inner black in red\n",
    "\n",
    "create[30:80, 30:80] = [255,255,0]           #sky blue box\n",
    "create[30:80, 100:150] = [0,255,255]         # yellow box\n",
    "\n",
    "create[100:150, 30:80] = [255,0,255]         # purple box\n",
    "create[100:150, 100:150] = [60,255,255]      # white box\n",
    "\n",
    "create[570:590,20:40] = [0,0,0]            # white line\n",
    "\n",
    "create[560:600,250:300] = [255,255,255]     # bottom white line\n",
    "create[570:590,265:285] = [0,255,255]       # bottom yellow\n",
    "\n",
    "create[560:600,320:370] = [255,255,255]     # bottom white line\n",
    "create[570:590,335:355] = [255,0,255]       # bottom purple\n",
    "\n",
    "create[570:590,630:670] = [255,255,255]       # bottom purple\n"
   ]
  },
  {
   "cell_type": "code",
   "execution_count": 18,
   "metadata": {},
   "outputs": [],
   "source": [
    "cv2.imshow(\"Hello\", create)\n",
    "cv2.waitKey()\n",
    "cv2.destroyAllWindows()"
   ]
  },
  {
   "cell_type": "code",
   "execution_count": null,
   "metadata": {},
   "outputs": [],
   "source": []
  }
 ],
 "metadata": {
  "kernelspec": {
   "display_name": "Python 3",
   "language": "python",
   "name": "python3"
  },
  "language_info": {
   "codemirror_mode": {
    "name": "ipython",
    "version": 3
   },
   "file_extension": ".py",
   "mimetype": "text/x-python",
   "name": "python",
   "nbconvert_exporter": "python",
   "pygments_lexer": "ipython3",
   "version": "3.8.3"
  }
 },
 "nbformat": 4,
 "nbformat_minor": 5
}
