{
 "cells": [
  {
   "cell_type": "code",
   "execution_count": null,
   "metadata": {},
   "outputs": [],
   "source": [
    "import smtplib\n",
    "import time\n",
    "import pywhatkit as kit\n",
    "import os\n",
    "\n",
    "SUBJECT = \"ALERT\"\n",
    "s = smtplib.SMTP('smtp.gmail.com', 587)\n",
    "\n",
    "def sendmail(TEXT,email):\n",
    "    s = smtplib.SMTP('smtp.gmail.com', 587)\n",
    "    s.starttls()\n",
    "    s.login(\"your email id\", \"password\")\n",
    "    message  = 'Subject: {}\\n\\n{}'.format(SUBJECT, TEXT)\n",
    "    s.sendmail(\"your-mail-id\", email, message)\n",
    "    s.quit()\n",
    "    \n",
    "sendmail(\"Face Detected. Hello Bhargava ! Email successfully sent\",\"manigohan4@gmail.com\")\n",
    "\n",
    "t = time.localtime()\n",
    "time_hr = time.strftime(\"%H\", t)\n",
    "time_min = time.strftime(\"%M\", t)\n",
    "print(time_hr)\n",
    "print(time_min)\n",
    "\n",
    "\n",
    "kit.sendwhatmsg(\"+91xxxxxxxxxx\", \"Hey Bhargava ! Whatsapp Message successfully sent !\", int(time_hr), int(time_min)+1)"
   ]
  },
  {
   "cell_type": "code",
   "execution_count": null,
   "metadata": {},
   "outputs": [],
   "source": []
  }
 ],
 "metadata": {
  "kernelspec": {
   "display_name": "Python 3",
   "language": "python",
   "name": "python3"
  },
  "language_info": {
   "codemirror_mode": {
    "name": "ipython",
    "version": 3
   },
   "file_extension": ".py",
   "mimetype": "text/x-python",
   "name": "python",
   "nbconvert_exporter": "python",
   "pygments_lexer": "ipython3",
   "version": "3.8.3"
  }
 },
 "nbformat": 4,
 "nbformat_minor": 4
}
